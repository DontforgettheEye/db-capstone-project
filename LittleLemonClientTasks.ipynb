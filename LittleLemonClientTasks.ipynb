{
 "cells": [
  {
   "cell_type": "markdown",
   "id": "d50be020-8719-402b-985a-2de42d247302",
   "metadata": {},
   "source": [
    "## Task 1"
   ]
  },
  {
   "cell_type": "code",
   "execution_count": 1,
   "id": "4c578c22-f84e-4631-b92b-d22e61ff21f5",
   "metadata": {},
   "outputs": [],
   "source": [
    "import mysql.connector as connector"
   ]
  },
  {
   "cell_type": "code",
   "execution_count": 6,
   "id": "a6460657-1d23-4c30-ae39-76ec63955ba3",
   "metadata": {},
   "outputs": [],
   "source": [
    "connection = connector.connect(user = \"littleLemonUser\", password=\"GreekSalad3\",db = \"littleLemonDB\")"
   ]
  },
  {
   "cell_type": "code",
   "execution_count": 7,
   "id": "e060ba7a-bc9d-418c-83b1-edd8e77f222a",
   "metadata": {},
   "outputs": [],
   "source": [
    "cursor = connection.cursor()"
   ]
  },
  {
   "cell_type": "markdown",
   "id": "d9785d46-4bf3-4fb7-94b1-844befedabd3",
   "metadata": {},
   "source": [
    "## Task 2"
   ]
  },
  {
   "cell_type": "code",
   "execution_count": 8,
   "id": "8231989f-ecbb-400d-80bf-58cd1d054b96",
   "metadata": {},
   "outputs": [],
   "source": [
    "show_tables_query = \"SHOW TABLES\"\n",
    "cursor.execute(show_tables_query)"
   ]
  },
  {
   "cell_type": "code",
   "execution_count": 9,
   "id": "616b2c35-5f20-450e-beb8-a47850f6e8fb",
   "metadata": {},
   "outputs": [
    {
     "name": "stdout",
     "output_type": "stream",
     "text": [
      "('address',)\n",
      "('bookings',)\n",
      "('customers',)\n",
      "('menu',)\n",
      "('menuitems',)\n",
      "('orderdeliverystatus',)\n",
      "('orders',)\n",
      "('ordersview',)\n",
      "('staff',)\n"
     ]
    }
   ],
   "source": [
    "for results in cursor:\n",
    "    print(results)"
   ]
  },
  {
   "cell_type": "markdown",
   "id": "48300c8d-033f-46cc-aaca-5b9488a0b33e",
   "metadata": {},
   "source": [
    "## Task 3"
   ]
  },
  {
   "cell_type": "code",
   "execution_count": 10,
   "id": "d9c9282b-f1ca-4c20-a63f-016a6bad6bea",
   "metadata": {},
   "outputs": [
    {
     "name": "stdout",
     "output_type": "stream",
     "text": [
      "('FullName', 'ContactPhone', 'ContactEmail', 'TotalCost')\n",
      "('John Johnstone', '47555579', 'John@HungPhone.com', Decimal('101'))\n",
      "('Jenny Jacobson', '95734567', 'JennyJ@gmail.com', Decimal('202'))\n",
      "('Qunicy Jackson', '55598734', 'QJ@gmail.com', Decimal('202'))\n",
      "('John Johnstone', '47555579', 'John@HungPhone.com', Decimal('301'))\n",
      "('Qunicy Jackson', '55598734', 'QJ@gmail.com', Decimal('152'))\n"
     ]
    }
   ],
   "source": [
    "#Tables requred are customers and orders\n",
    "promo_query = \"\"\"\n",
    "SELECT Customers.FullName, Customers.ContactPhone, Customers.ContactEmail, Orders.TotalCost\n",
    "FROM Customers LEFT JOIN Orders ON Customers.CustomerID=Orders.CustomerID\n",
    "WHERE Orders.TotalCost > 60.0;\n",
    "\"\"\"\n",
    "\n",
    "cursor.execute(promo_query)\n",
    "print(cursor.column_names)\n",
    "for result in cursor:\n",
    "    print(result)\n"
   ]
  },
  {
   "cell_type": "code",
   "execution_count": null,
   "id": "f7b9dc15-714e-426b-9116-b3666f522032",
   "metadata": {},
   "outputs": [],
   "source": []
  }
 ],
 "metadata": {
  "kernelspec": {
   "display_name": "Python 3 (ipykernel)",
   "language": "python",
   "name": "python3"
  },
  "language_info": {
   "codemirror_mode": {
    "name": "ipython",
    "version": 3
   },
   "file_extension": ".py",
   "mimetype": "text/x-python",
   "name": "python",
   "nbconvert_exporter": "python",
   "pygments_lexer": "ipython3",
   "version": "3.12.4"
  }
 },
 "nbformat": 4,
 "nbformat_minor": 5
}
